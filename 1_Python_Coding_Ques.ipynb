{
  "nbformat": 4,
  "nbformat_minor": 0,
  "metadata": {
    "colab": {
      "provenance": [],
      "include_colab_link": true
    },
    "kernelspec": {
      "name": "python3",
      "display_name": "Python 3"
    },
    "language_info": {
      "name": "python"
    }
  },
  "cells": [
    {
      "cell_type": "markdown",
      "metadata": {
        "id": "view-in-github",
        "colab_type": "text"
      },
      "source": [
        "<a href=\"https://colab.research.google.com/github/gojiyashailesh/Data-Science/blob/main/1_Python_Coding_Ques.ipynb\" target=\"_parent\"><img src=\"https://colab.research.google.com/assets/colab-badge.svg\" alt=\"Open In Colab\"/></a>"
      ]
    },
    {
      "cell_type": "markdown",
      "source": [
        "### Convert string to int using single line of code"
      ],
      "metadata": {
        "id": "EHRqM6aZgU4L"
      }
    },
    {
      "cell_type": "code",
      "execution_count": null,
      "metadata": {
        "id": "dlD1MQz1bHKV"
      },
      "outputs": [],
      "source": [
        "a = \"5\""
      ]
    },
    {
      "cell_type": "code",
      "source": [
        "print(int(a))"
      ],
      "metadata": {
        "colab": {
          "base_uri": "https://localhost:8080/"
        },
        "id": "jslc1JHnghU6",
        "outputId": "ad068ae1-f8e5-4213-daca-2e7e3e790eab"
      },
      "execution_count": null,
      "outputs": [
        {
          "output_type": "stream",
          "name": "stdout",
          "text": [
            "5\n"
          ]
        }
      ]
    },
    {
      "cell_type": "markdown",
      "source": [
        "### Convert a string to a list"
      ],
      "metadata": {
        "id": "wJr53lxhgiuo"
      }
    },
    {
      "cell_type": "code",
      "source": [
        "str1 = \"Analytics Vidhya\""
      ],
      "metadata": {
        "id": "FyI9lXIPgiAN"
      },
      "execution_count": null,
      "outputs": []
    },
    {
      "cell_type": "code",
      "source": [
        "print(str1.split(\" \"))"
      ],
      "metadata": {
        "colab": {
          "base_uri": "https://localhost:8080/"
        },
        "id": "OYmm-HyAgzCv",
        "outputId": "c5f71a48-b618-4aaf-c55f-63719edb629d"
      },
      "execution_count": null,
      "outputs": [
        {
          "output_type": "stream",
          "name": "stdout",
          "text": [
            "['Analytics', 'Vidhya']\n"
          ]
        }
      ]
    },
    {
      "cell_type": "markdown",
      "source": [
        "### Reverse a string"
      ],
      "metadata": {
        "id": "88njavrlg1L6"
      }
    },
    {
      "cell_type": "code",
      "source": [
        "str1 = \"Analytics Vidhya\""
      ],
      "metadata": {
        "id": "BMiQzZiUgz6r"
      },
      "execution_count": null,
      "outputs": []
    },
    {
      "cell_type": "code",
      "source": [
        "str2 = \"\"\n",
        "for i in str1:\n",
        "    str2 = i + str2\n",
        "print(\"The original string is: \", str1)\n",
        "print(\"The reversed string is: \", str2)"
      ],
      "metadata": {
        "colab": {
          "base_uri": "https://localhost:8080/"
        },
        "id": "huOAbzRUg--n",
        "outputId": "51115aed-a3c0-4df4-c718-86ea3a12a646"
      },
      "execution_count": null,
      "outputs": [
        {
          "output_type": "stream",
          "name": "stdout",
          "text": [
            "The original string is:  Analytics Vidhya\n",
            "The reversed string is:  ayhdiV scitylanA\n"
          ]
        }
      ]
    },
    {
      "cell_type": "markdown",
      "source": [
        "### Sort a list in Python"
      ],
      "metadata": {
        "id": "eoDweU5ChA2P"
      }
    },
    {
      "cell_type": "code",
      "source": [
        "my_list = [3, 1, 2]"
      ],
      "metadata": {
        "id": "LLEQhDwXg_od"
      },
      "execution_count": null,
      "outputs": []
    },
    {
      "cell_type": "code",
      "source": [
        "my_list.sort()\n",
        "print(my_list)"
      ],
      "metadata": {
        "colab": {
          "base_uri": "https://localhost:8080/"
        },
        "id": "CovAydGXhJTA",
        "outputId": "f79c6297-ed34-42d2-8e5c-ae8c95e0b7fe"
      },
      "execution_count": null,
      "outputs": [
        {
          "output_type": "stream",
          "name": "stdout",
          "text": [
            "[1, 2, 3]\n"
          ]
        }
      ]
    },
    {
      "cell_type": "markdown",
      "source": [
        "### Delete a file in Python"
      ],
      "metadata": {
        "id": "wIVMdLoRhK5_"
      }
    },
    {
      "cell_type": "code",
      "source": [
        "f = open(\"txt1.txt\", \"x\")"
      ],
      "metadata": {
        "id": "tPhuwW-blpm7"
      },
      "execution_count": null,
      "outputs": []
    },
    {
      "cell_type": "code",
      "source": [
        "import os"
      ],
      "metadata": {
        "id": "eWztcGUBhJye"
      },
      "execution_count": null,
      "outputs": []
    },
    {
      "cell_type": "code",
      "source": [
        "os.remove(\"txt1.txt\")"
      ],
      "metadata": {
        "id": "GS4i7LDThS03"
      },
      "execution_count": null,
      "outputs": []
    },
    {
      "cell_type": "markdown",
      "source": [
        "### Access element of a list"
      ],
      "metadata": {
        "id": "fwgN2LgNhTvm"
      }
    },
    {
      "cell_type": "code",
      "source": [
        "my_list = [10, 20, 30, 40, 50]"
      ],
      "metadata": {
        "id": "jmqV0tBmhaFk"
      },
      "execution_count": null,
      "outputs": []
    },
    {
      "cell_type": "code",
      "source": [
        "first_element = my_list[0]\n",
        "print(\"First element:\", first_element)  # Output: First element: 10"
      ],
      "metadata": {
        "colab": {
          "base_uri": "https://localhost:8080/"
        },
        "id": "SQaNfIhMhdPS",
        "outputId": "85043cb4-5a46-4bee-f9e2-9b36298ed16b"
      },
      "execution_count": null,
      "outputs": [
        {
          "output_type": "stream",
          "name": "stdout",
          "text": [
            "First element: 10\n"
          ]
        }
      ]
    },
    {
      "cell_type": "code",
      "source": [
        "third_element = my_list[2]\n",
        "print(\"Third element:\", third_element)  # Output: Third element: 30"
      ],
      "metadata": {
        "colab": {
          "base_uri": "https://localhost:8080/"
        },
        "id": "WayMwc8RheOy",
        "outputId": "17e3d26a-50e1-4173-9fc3-c342d5bce7f9"
      },
      "execution_count": null,
      "outputs": [
        {
          "output_type": "stream",
          "name": "stdout",
          "text": [
            "Third element: 30\n"
          ]
        }
      ]
    },
    {
      "cell_type": "code",
      "source": [
        "last_element = my_list[-1]\n",
        "print(\"Last element:\", last_element)  # Output: Last element: 50"
      ],
      "metadata": {
        "colab": {
          "base_uri": "https://localhost:8080/"
        },
        "id": "t3V1KMlUhfQ4",
        "outputId": "00b3f149-a682-48a6-f420-65b5b4bb3c5f"
      },
      "execution_count": null,
      "outputs": [
        {
          "output_type": "stream",
          "name": "stdout",
          "text": [
            "Last element: 50\n"
          ]
        }
      ]
    },
    {
      "cell_type": "markdown",
      "source": [
        "### Delete element from a list"
      ],
      "metadata": {
        "id": "Ld5Tycz_hhV5"
      }
    },
    {
      "cell_type": "markdown",
      "source": [
        "#### Method #1"
      ],
      "metadata": {
        "id": "HsgygVkqhxuZ"
      }
    },
    {
      "cell_type": "code",
      "source": [
        "list1 = [1, 2, 3, 4]"
      ],
      "metadata": {
        "id": "NKhbJHHjhgkt"
      },
      "execution_count": null,
      "outputs": []
    },
    {
      "cell_type": "code",
      "source": [
        "list1.remove(2)\n",
        "print(list1)"
      ],
      "metadata": {
        "colab": {
          "base_uri": "https://localhost:8080/"
        },
        "id": "cDQhT15Hhv-R",
        "outputId": "88df0e1d-1789-42f2-d9ed-f8c7a6d85830"
      },
      "execution_count": null,
      "outputs": [
        {
          "output_type": "stream",
          "name": "stdout",
          "text": [
            "[1, 3, 4]\n"
          ]
        }
      ]
    },
    {
      "cell_type": "markdown",
      "source": [
        "#### Method #2"
      ],
      "metadata": {
        "id": "01eFpskWh0yR"
      }
    },
    {
      "cell_type": "code",
      "source": [
        "list1.pop(1)\n",
        "print(list1)"
      ],
      "metadata": {
        "colab": {
          "base_uri": "https://localhost:8080/"
        },
        "id": "8eKFR9FWh1Yf",
        "outputId": "6d8de717-8d4e-4cfc-d6ba-d958159efccc"
      },
      "execution_count": null,
      "outputs": [
        {
          "output_type": "stream",
          "name": "stdout",
          "text": [
            "[1, 4]\n"
          ]
        }
      ]
    },
    {
      "cell_type": "markdown",
      "source": [
        "### Delete an entire list"
      ],
      "metadata": {
        "id": "lVZKwuaJh41r"
      }
    },
    {
      "cell_type": "code",
      "source": [
        "list1 = [1, 2, 3, 4]"
      ],
      "metadata": {
        "id": "lXvVOFmeh34D"
      },
      "execution_count": null,
      "outputs": []
    },
    {
      "cell_type": "code",
      "source": [
        "list1.clear()"
      ],
      "metadata": {
        "id": "MRDCyk_1iDkI"
      },
      "execution_count": null,
      "outputs": []
    },
    {
      "cell_type": "code",
      "source": [
        "list1"
      ],
      "metadata": {
        "colab": {
          "base_uri": "https://localhost:8080/"
        },
        "id": "dy7xsCgtiETF",
        "outputId": "c88873cc-fffd-46a6-f3a5-bf4bba2a5529"
      },
      "execution_count": null,
      "outputs": [
        {
          "output_type": "execute_result",
          "data": {
            "text/plain": [
              "[]"
            ]
          },
          "metadata": {},
          "execution_count": 22
        }
      ]
    },
    {
      "cell_type": "markdown",
      "source": [
        "### Reverse an array"
      ],
      "metadata": {
        "id": "wNdknHVRiGHK"
      }
    },
    {
      "cell_type": "markdown",
      "source": [
        "#### Method #1"
      ],
      "metadata": {
        "id": "eh1d6uBgiLJD"
      }
    },
    {
      "cell_type": "code",
      "source": [
        "import numpy as np"
      ],
      "metadata": {
        "id": "wlvy_e6HiFOl"
      },
      "execution_count": null,
      "outputs": []
    },
    {
      "cell_type": "code",
      "source": [
        "arr1 = np.array([1, 2, 3, 4])"
      ],
      "metadata": {
        "id": "1Sx5EvZOiQRL"
      },
      "execution_count": null,
      "outputs": []
    },
    {
      "cell_type": "code",
      "source": [
        "arr2 = np.flip(arr1)\n",
        "print(arr2)"
      ],
      "metadata": {
        "colab": {
          "base_uri": "https://localhost:8080/"
        },
        "id": "mlFzQTFLiQTP",
        "outputId": "693e9a2d-e365-43c8-fa6a-b06e745c1083"
      },
      "execution_count": null,
      "outputs": [
        {
          "output_type": "stream",
          "name": "stdout",
          "text": [
            "[4 3 2 1]\n"
          ]
        }
      ]
    },
    {
      "cell_type": "markdown",
      "source": [
        "#### Method #2"
      ],
      "metadata": {
        "id": "2wDpQIlOiNYy"
      }
    },
    {
      "cell_type": "code",
      "source": [
        "arr2 = arr1[::-1]\n",
        "print(arr2)"
      ],
      "metadata": {
        "colab": {
          "base_uri": "https://localhost:8080/"
        },
        "id": "OVJFmm76iOM0",
        "outputId": "b8331225-4793-48bb-da44-04045a7f4abe"
      },
      "execution_count": null,
      "outputs": [
        {
          "output_type": "stream",
          "name": "stdout",
          "text": [
            "[4 3 2 1]\n"
          ]
        }
      ]
    },
    {
      "cell_type": "markdown",
      "source": [
        "### Access, delete, update element in Numpy Array"
      ],
      "metadata": {
        "id": "NMfgoUAciZU3"
      }
    },
    {
      "cell_type": "code",
      "source": [
        "arr1 = [1, 2, 3, 4]"
      ],
      "metadata": {
        "id": "ZDvSJ3opjSok"
      },
      "execution_count": null,
      "outputs": []
    },
    {
      "cell_type": "code",
      "source": [
        "# To access element\n",
        "print(arr1[0])"
      ],
      "metadata": {
        "colab": {
          "base_uri": "https://localhost:8080/"
        },
        "id": "CRwNQf6fikuC",
        "outputId": "ebeb4f59-d65a-4033-8701-163a0fe4bfac"
      },
      "execution_count": null,
      "outputs": [
        {
          "output_type": "stream",
          "name": "stdout",
          "text": [
            "1\n"
          ]
        }
      ]
    },
    {
      "cell_type": "code",
      "source": [
        "# To delete element\n",
        "x = np.delete(arr1, 0)\n",
        "print(x)"
      ],
      "metadata": {
        "colab": {
          "base_uri": "https://localhost:8080/"
        },
        "id": "aeu7ALMLisBM",
        "outputId": "c6eab37b-7c26-4d5e-fa64-d6f469dc2382"
      },
      "execution_count": null,
      "outputs": [
        {
          "output_type": "stream",
          "name": "stdout",
          "text": [
            "[2 3 4]\n"
          ]
        }
      ]
    },
    {
      "cell_type": "code",
      "source": [
        "# To update element\n",
        "arr1[1] = 100\n",
        "print(arr1)"
      ],
      "metadata": {
        "colab": {
          "base_uri": "https://localhost:8080/"
        },
        "id": "DUohoeRCisDR",
        "outputId": "1a5cc04d-4e54-44a4-f2d3-75e00a55b6f3"
      },
      "execution_count": null,
      "outputs": [
        {
          "output_type": "stream",
          "name": "stdout",
          "text": [
            "[1, 100, 3, 4]\n"
          ]
        }
      ]
    },
    {
      "cell_type": "markdown",
      "source": [
        "### Concatenate two lists"
      ],
      "metadata": {
        "id": "wfpq3g4VjT_C"
      }
    },
    {
      "cell_type": "code",
      "source": [
        "lst1 = ['W', 'a', 'w', 'b']\n",
        "lst2 = ['e', 're', 'riting', 'log']"
      ],
      "metadata": {
        "id": "7QH0dW7cjIbI"
      },
      "execution_count": null,
      "outputs": []
    },
    {
      "cell_type": "code",
      "source": [
        "lst3 = [x + y for x, y in zip(lst1, lst2)]\n",
        "\n",
        "print(lst3)"
      ],
      "metadata": {
        "colab": {
          "base_uri": "https://localhost:8080/"
        },
        "id": "89rYwlfMjfd6",
        "outputId": "00f549d6-3600-462b-a684-73bfe0e299e3"
      },
      "execution_count": null,
      "outputs": [
        {
          "output_type": "stream",
          "name": "stdout",
          "text": [
            "['We', 'are', 'writing', 'blog']\n"
          ]
        }
      ]
    },
    {
      "cell_type": "code",
      "source": [],
      "metadata": {
        "id": "E2EcrKSnjr78"
      },
      "execution_count": null,
      "outputs": []
    },
    {
      "cell_type": "markdown",
      "source": [
        "### Square of list elements"
      ],
      "metadata": {
        "id": "w09ytV9TjvYt"
      }
    },
    {
      "cell_type": "markdown",
      "source": [
        "#### Method #1"
      ],
      "metadata": {
        "id": "qfLYwLeMj-qS"
      }
    },
    {
      "cell_type": "code",
      "source": [
        "# Define a sample list\n",
        "my_list = [1, 2, 3, 4]\n",
        "\n",
        "# Square each element using a for loop and list comprehension\n",
        "squared_list = [x * x for x in my_list]\n",
        "\n",
        "# Print the original and squared lists\n",
        "print(\"Original list:\", my_list)\n",
        "print(\"Squared list:\", squared_list)"
      ],
      "metadata": {
        "colab": {
          "base_uri": "https://localhost:8080/"
        },
        "id": "IkYeNUORjzgD",
        "outputId": "ffdf49cc-7ab9-4ec8-ab47-ce3a41d8dfe6"
      },
      "execution_count": null,
      "outputs": [
        {
          "output_type": "stream",
          "name": "stdout",
          "text": [
            "Original list: [1, 2, 3, 4]\n",
            "Squared list: [1, 4, 9, 16]\n"
          ]
        }
      ]
    },
    {
      "cell_type": "markdown",
      "source": [
        "#### Method #2"
      ],
      "metadata": {
        "id": "elGtdcmzkRee"
      }
    },
    {
      "cell_type": "code",
      "source": [
        "# Square each element using the map() function and a lambda expression\n",
        "squared_list_map = list(map(lambda x: x * x, my_list))\n",
        "# Convert to list for clarity\n",
        "\n",
        "# Print the squared list (same output as method 1)\n",
        "print(\"Squared list using map():\", squared_list_map)"
      ],
      "metadata": {
        "colab": {
          "base_uri": "https://localhost:8080/"
        },
        "id": "LRT0C-6pj3D_",
        "outputId": "4a00123e-7fab-4612-c39f-ec49dad64027"
      },
      "execution_count": null,
      "outputs": [
        {
          "output_type": "stream",
          "name": "stdout",
          "text": [
            "Squared list using map(): [1, 4, 9, 16]\n"
          ]
        }
      ]
    },
    {
      "cell_type": "markdown",
      "source": [
        "### Difference b/w Split & Join"
      ],
      "metadata": {
        "id": "zFrqYVwTj5de"
      }
    },
    {
      "cell_type": "code",
      "source": [
        "a = 'This is a string'\n",
        "b = a.split(' ')\n",
        "\n",
        "print(b)"
      ],
      "metadata": {
        "colab": {
          "base_uri": "https://localhost:8080/"
        },
        "id": "OBAUjNRWj4BJ",
        "outputId": "9b412946-f4d6-4527-887f-8fb26fca313e"
      },
      "execution_count": null,
      "outputs": [
        {
          "output_type": "stream",
          "name": "stdout",
          "text": [
            "['This', 'is', 'a', 'string']\n"
          ]
        }
      ]
    },
    {
      "cell_type": "code",
      "source": [
        "c = \"-\".join(b)\n",
        "\n",
        "print(c)"
      ],
      "metadata": {
        "colab": {
          "base_uri": "https://localhost:8080/"
        },
        "id": "uwf5hCAwknLL",
        "outputId": "ee4b96d0-a8ce-40be-e424-4031ad486c72"
      },
      "execution_count": null,
      "outputs": [
        {
          "output_type": "stream",
          "name": "stdout",
          "text": [
            "This-is-a-string\n"
          ]
        }
      ]
    }
  ]
}